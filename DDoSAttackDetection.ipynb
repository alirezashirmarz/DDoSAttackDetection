{
  "nbformat": 4,
  "nbformat_minor": 0,
  "metadata": {
    "colab": {
      "name": "DDoSAttackDetection.ipynb",
      "provenance": [],
      "toc_visible": true,
      "mount_file_id": "1sG300KA2xybiNY74ONTw-LNwjwa89vUn",
      "authorship_tag": "ABX9TyPTBUnFTDS9AdHERh4PpLya",
      "include_colab_link": true
    },
    "kernelspec": {
      "name": "python3",
      "display_name": "Python 3"
    },
    "language_info": {
      "name": "python"
    },
    "accelerator": "GPU",
    "gpuClass": "standard"
  },
  "cells": [
    {
      "cell_type": "markdown",
      "metadata": {
        "id": "view-in-github",
        "colab_type": "text"
      },
      "source": [
        "<a href=\"https://colab.research.google.com/github/alirezashirmarz/DDoSAttackDetection/blob/main/DDoSAttackDetection.ipynb\" target=\"_parent\"><img src=\"https://colab.research.google.com/assets/colab-badge.svg\" alt=\"Open In Colab\"/></a>"
      ]
    },
    {
      "cell_type": "markdown",
      "source": [
        "#Connect Google Drive \n",
        "DDoS file is in \"gdrive/MyDrive/DDOS_Dataset/DrDoS_MSSQL.csv\"\n",
        "\n",
        "Check the file whether exists or not with linux command\n",
        "==> !ls gdrive/MyDrive/DDOS_Dataset"
      ],
      "metadata": {
        "id": "r-1VqCLPcy9s"
      }
    },
    {
      "cell_type": "code",
      "source": [
        "from google.colab import drive\n",
        "drive.mount('/content/gdrive')"
      ],
      "metadata": {
        "colab": {
          "base_uri": "https://localhost:8080/"
        },
        "id": "4WlV-ThOdOpi",
        "outputId": "f6b4cfc1-fce8-4f0f-fefb-5b39b8f071be"
      },
      "execution_count": 6,
      "outputs": [
        {
          "output_type": "stream",
          "name": "stdout",
          "text": [
            "Mounted at /content/gdrive\n"
          ]
        }
      ]
    },
    {
      "cell_type": "code",
      "source": [
        "!ls gdrive/MyDrive/DDOS_Dataset # Show the file name in the address"
      ],
      "metadata": {
        "colab": {
          "base_uri": "https://localhost:8080/"
        },
        "id": "hWzOpQTKdWcA",
        "outputId": "9d0e19b9-291b-43d9-bcab-90692c6d5ee0"
      },
      "execution_count": 2,
      "outputs": [
        {
          "output_type": "stream",
          "name": "stdout",
          "text": [
            "DrDoS_MSSQL.csv\n"
          ]
        }
      ]
    },
    {
      "cell_type": "markdown",
      "source": [
        "# Import the Packages"
      ],
      "metadata": {
        "id": "CZ5Tas4-dcDu"
      }
    },
    {
      "cell_type": "code",
      "execution_count": 3,
      "metadata": {
        "id": "GI2HY-e_W5fy"
      },
      "outputs": [],
      "source": [
        "import numpy as np\n",
        "import pandas as pd\n",
        "from sklearn.model_selection import train_test_split\n",
        "from sklearn.metrics import r2_score\n",
        "from sklearn.linear_model import LinearRegression"
      ]
    },
    {
      "cell_type": "code",
      "source": [
        "df = pd.read_csv('gdrive/MyDrive/DDOS_Dataset/DrDoS_MSSQL.csv')\n",
        "df.head(10)\n",
        "print(df.shape)"
      ],
      "metadata": {
        "id": "44WfV3CyX9RV"
      },
      "execution_count": null,
      "outputs": []
    },
    {
      "cell_type": "code",
      "source": [
        "print(df.shape)"
      ],
      "metadata": {
        "id": "jTDNSUn8foY1"
      },
      "execution_count": null,
      "outputs": []
    },
    {
      "cell_type": "markdown",
      "source": [
        "# New Section"
      ],
      "metadata": {
        "id": "WRB-7yd9bw6F"
      }
    },
    {
      "cell_type": "markdown",
      "source": [
        "# New Section"
      ],
      "metadata": {
        "id": "1DvREMY1Y3l6"
      }
    },
    {
      "cell_type": "markdown",
      "source": [
        "# New Section"
      ],
      "metadata": {
        "id": "k_J1q3M4ZKSR"
      }
    },
    {
      "cell_type": "code",
      "source": [],
      "metadata": {
        "id": "jB4kcRvzZxv6"
      },
      "execution_count": null,
      "outputs": []
    }
  ]
}